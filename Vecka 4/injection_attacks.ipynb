{
 "cells": [
  {
   "cell_type": "markdown",
   "id": "0675ef40",
   "metadata": {},
   "source": [
    "### 🛡️ Lecture: Understanding and Preventing SQL Injection in Python with pyodbc\n",
    "**Learning Objectives**\n",
    "\n",
    "By the end of this lecture, students will:\n",
    "\n",
    "    Understand what SQL Injection is and why it’s dangerous\n",
    "\n",
    "    See real examples of injection attacks\n",
    "\n",
    "    Learn how to identify vulnerable code patterns\n",
    "\n",
    "    Apply parameterized queries using pyodbc to prevent attacks\n",
    "\n",
    "---"
   ]
  },
  {
   "cell_type": "markdown",
   "id": "598644d7",
   "metadata": {},
   "source": [
    "### 🔍 What is SQL Injection?\n",
    "\n",
    "**Definition**\n",
    "\n",
    "SQL Injection is a type of security vulnerability that allows an attacker to interfere with the queries your application sends to a database.\n",
    "\n",
    "🧨 What can an attacker do?\n",
    "\n",
    "    Bypass login screens\n",
    "\n",
    "    Read, modify, or delete data\n",
    "\n",
    "    Drop entire tables or databases\n",
    "\n",
    "    Execute arbitrary database commands\n",
    "\n",
    "🦠 Why does it happen?\n",
    "\n",
    "Because the application concatenates user input directly into SQL strings.\n",
    "\n",
    "---"
   ]
  },
  {
   "cell_type": "markdown",
   "id": "47c16f50",
   "metadata": {},
   "source": [
    "### 🧪 Setting Up a Demo Table\n",
    "\n",
    "We’ll use a simple Users table to simulate login logic.\n",
    "💬 What we'll do:\n",
    "\n",
    "    Create a Users table with fake usernames and passwords\n",
    "\n",
    "    Simulate login functionality (both unsafe and safe)\n",
    "\n",
    "    Demonstrate how an attacker can exploit poor code"
   ]
  },
  {
   "cell_type": "code",
   "execution_count": null,
   "id": "4c424bcf",
   "metadata": {},
   "outputs": [],
   "source": [
    "import pyodbc\n",
    "\n",
    "server_name = 'LAPTOP-OM16N5V6'  # replace with your server name\n",
    "database_name = 'AI24'           # replace with your database name\n",
    "\n",
    "# Define connection string\n",
    "conn = pyodbc.connect(\n",
    "    'DRIVER={ODBC Driver 17 for SQL Server};'\n",
    "    'SERVER=localhost;'\n",
    "    f'SERVER={server_name};'\n",
    "    f'DATABASE={database_name};'\n",
    "    'Trusted_Connection=yes;'\n",
    ")\n",
    "\n",
    "print(\"Connected!\")"
   ]
  },
  {
   "cell_type": "markdown",
   "id": "55aa0d75",
   "metadata": {},
   "source": [
    "We will keep building on the Library schema defined in the previous notebook."
   ]
  },
  {
   "cell_type": "code",
   "execution_count": null,
   "id": "ad176500",
   "metadata": {},
   "outputs": [],
   "source": [
    "cursor = conn.cursor()\n",
    "\n",
    "# Drop table if it exists\n",
    "\n",
    "cursor.execute(\"IF OBJECT_ID('Library.Users', 'U') IS NOT NULL DROP TABLE Library.Users;\")\n",
    "\n",
    "# Create TABLE Users\n",
    "\n",
    "cursor.execute('''\n",
    "                CREATE TABLE Library.Users (\n",
    "                    UserID INT PRIMARY KEY IDENTITY,\n",
    "                    Username NVARCHAR(100),\n",
    "                    Password NVARCHAR(100)\n",
    "                );\n",
    "              ''')\n",
    "\n",
    "cursor.executemany(\n",
    "    \"INSERT INTO Library.Users (Username, Password) VALUES (?, ?);\",\n",
    "    [\n",
    "        ('alice', 'password123'),\n",
    "        ('bob', 'qwerty'),\n",
    "        ('charlie', 'letmein'),\n",
    "    #    ('alice', \"' OR '1'='1\")        -- uncomment to see how this affects the safe login demo\n",
    "    ]\n",
    ")\n",
    "\n",
    "conn.commit()"
   ]
  },
  {
   "cell_type": "markdown",
   "id": "c7b868c7",
   "metadata": {},
   "source": [
    "### ❌ Unsafe Login Function (Vulnerable to SQL Injection)\n",
    "💬 Why is this dangerous?\n",
    "\n",
    "The username and password values are directly inserted into the SQL string. If the user includes malicious SQL in their input, it will be executed by the server."
   ]
  },
  {
   "cell_type": "code",
   "execution_count": null,
   "id": "371bf2f9",
   "metadata": {},
   "outputs": [],
   "source": [
    "def unsafe_login_method(username, password):\n",
    "    \n",
    "    query = f\"SELECT * FROM Library.Users WHERE Username = '{username}' AND Password = '{password}';\"\n",
    "    print(\"[!] Executing SQL:\", query)\n",
    "    cursor.execute(query)\n",
    "    return cursor.fetchall()"
   ]
  },
  {
   "cell_type": "code",
   "execution_count": null,
   "id": "49ba5793",
   "metadata": {},
   "outputs": [],
   "source": [
    "# legitimate login\n",
    "# You should get back one row for Alice.\n",
    "\n",
    "unsafe_login_method('alice', 'password123')"
   ]
  },
  {
   "cell_type": "code",
   "execution_count": null,
   "id": "3ddc33a5",
   "metadata": {},
   "outputs": [],
   "source": [
    "# SQL Injection Attack: Bypass Login\n",
    "# This may return all users, showing how the login was bypassed.\n",
    "\n",
    "unsafe_login_method('alice', \"' OR '1'='1\")"
   ]
  },
  {
   "cell_type": "markdown",
   "id": "4d40a471",
   "metadata": {},
   "source": [
    "### 🔥 More Dangerous: DELETE via Injection\n",
    "\n",
    "If your app executes any other kind of SQL besides SELECT — say, DELETE — this becomes catastrophic."
   ]
  },
  {
   "cell_type": "code",
   "execution_count": null,
   "id": "882b8dba",
   "metadata": {},
   "outputs": [],
   "source": [
    "# NEVER define a function like this\n",
    "\n",
    "def delete_user(username):\n",
    "    query = f\"DELETE FROM Library.Users WHERE Username LIKE '{username}'\"\n",
    "    print(\"[!] Executing SQL:\", query)\n",
    "    cursor.execute(query)\n",
    "    conn.commit()"
   ]
  },
  {
   "cell_type": "code",
   "execution_count": null,
   "id": "d8a71c17",
   "metadata": {},
   "outputs": [],
   "source": [
    "# This will first delete the user Alice, but then also the entire table!\n",
    "\n",
    "delete_user(\"alice'; DROP TABLE Library.Users;--\")"
   ]
  },
  {
   "cell_type": "markdown",
   "id": "d8f41164",
   "metadata": {},
   "source": [
    "Question: why does this end with \"--\"?"
   ]
  },
  {
   "cell_type": "markdown",
   "id": "0ac86670",
   "metadata": {},
   "source": [
    "**Before proceeding,  re-run the code that creates, and insert data into, our table Library.Users**"
   ]
  },
  {
   "cell_type": "markdown",
   "id": "d8d0ebb8",
   "metadata": {},
   "source": [
    "---"
   ]
  },
  {
   "cell_type": "markdown",
   "id": "a7961f84",
   "metadata": {},
   "source": [
    "### ✅ Safe Login Using Parameterized Queries\n",
    "\n",
    "Using ? placeholders ensures user input is treated as data, not as SQL code."
   ]
  },
  {
   "cell_type": "code",
   "execution_count": null,
   "id": "b5e2f2d4",
   "metadata": {},
   "outputs": [],
   "source": [
    "def safe_login(username, password):\n",
    "    query = \"SELECT * FROM Library.Users WHERE Username = ? AND Password = ?\"\n",
    "    print(f\"[+] Executing safe parameterized query: {query}\")\n",
    "    cursor.execute(query, (username, password))\n",
    "    return cursor.fetchall()"
   ]
  },
  {
   "cell_type": "markdown",
   "id": "a7011588",
   "metadata": {},
   "source": [
    "🧪 Test the Same Attack Again (Safely)"
   ]
  },
  {
   "cell_type": "code",
   "execution_count": null,
   "id": "9e26ced8",
   "metadata": {},
   "outputs": [],
   "source": [
    "safe_login('alice', \"' OR '1'='1\")"
   ]
  },
  {
   "cell_type": "markdown",
   "id": "390f2fd5",
   "metadata": {},
   "source": [
    "✅ This will return nothing — the injection is now treated as a literal string, not part of the SQL logic.\n",
    "\n",
    "---"
   ]
  },
  {
   "cell_type": "markdown",
   "id": "d1550af7",
   "metadata": {},
   "source": [
    "\n",
    "### Final Thoughts\n",
    "\n",
    "        SQL injection is one of the oldest and most common attack vectors.\n",
    "\n",
    "        It is easy to exploit but also easy to prevent with the right habits.\n",
    "\n",
    "        If your application accepts user input, assume it’s hostile — and sanitize or parameterize accordingly.\n",
    "\n",
    "### Homework / Practice Ideas\n",
    "\n",
    "        Modify the unsafe login function to try different injections.\n",
    "\n",
    "        Add a new table and try injecting destructive SQL (e.g. DROP, UPDATE).\n",
    "\n",
    "        Use executemany() to safely insert multiple users."
   ]
  },
  {
   "cell_type": "code",
   "execution_count": null,
   "id": "6ddda119",
   "metadata": {},
   "outputs": [],
   "source": []
  }
 ],
 "metadata": {
  "kernelspec": {
   "display_name": "databehandling",
   "language": "python",
   "name": "python3"
  },
  "language_info": {
   "codemirror_mode": {
    "name": "ipython",
    "version": 3
   },
   "file_extension": ".py",
   "mimetype": "text/x-python",
   "name": "python",
   "nbconvert_exporter": "python",
   "pygments_lexer": "ipython3",
   "version": "3.12.7"
  }
 },
 "nbformat": 4,
 "nbformat_minor": 5
}
