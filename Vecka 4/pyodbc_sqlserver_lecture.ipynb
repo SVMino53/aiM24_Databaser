{
 "cells": [
  {
   "cell_type": "markdown",
   "metadata": {},
   "source": [
    "### Connecting to SQL Server with Python and pyodbc\n",
    "\n",
    "A complete tutorial using `pyodbc` and `pandas` to work with SQL Server.\n",
    "\n",
    "---"
   ]
  },
  {
   "cell_type": "markdown",
   "id": "07a65f8c",
   "metadata": {},
   "source": [
    "You can choose wether you'd like to create a new environment for this or not.\n",
    "\n",
    "If you do, do so now."
   ]
  },
  {
   "cell_type": "markdown",
   "id": "eb6c8d1f",
   "metadata": {},
   "source": [
    "---"
   ]
  },
  {
   "cell_type": "code",
   "execution_count": null,
   "metadata": {},
   "outputs": [],
   "source": [
    "#install dependencies pyodbc (dont forget ipython ipykernel if you are using jupyter)\n",
    "\n",
    "!pip install pyodbc pandas"
   ]
  },
  {
   "cell_type": "markdown",
   "id": "83ab7208",
   "metadata": {},
   "source": [
    "*Note*: You might have to install ODBC Driver 17, or greater, for SQL. \n",
    "\n",
    "You can find it [here](https://learn.microsoft.com/en-us/sql/connect/odbc/download-odbc-driver-for-sql-server?view=sql-server-ver16).\n",
    "\n",
    "---"
   ]
  },
  {
   "cell_type": "markdown",
   "metadata": {},
   "source": [
    "### Step 1: Connect to SQL Server using pyodbc"
   ]
  },
  {
   "cell_type": "code",
   "execution_count": null,
   "metadata": {},
   "outputs": [],
   "source": [
    "import pyodbc\n",
    "\n",
    "server_name = 'LAPTOP-OM16N5V6'  # replace with your server name\n",
    "database_name = 'AI24'           # replace with your database name\n",
    "\n",
    "# Define connection string\n",
    "conn = pyodbc.connect(\n",
    "    'DRIVER={ODBC Driver 17 for SQL Server};'\n",
    "    'SERVER=localhost;'\n",
    "    f'SERVER={server_name};'\n",
    "    f'DATABASE={database_name};'\n",
    "    'Trusted_Connection=yes;'\n",
    ")\n",
    "\n",
    "print(\"Connected!\")"
   ]
  },
  {
   "cell_type": "markdown",
   "metadata": {},
   "source": [
    "### Step 2: Create Schema & Tables"
   ]
  },
  {
   "cell_type": "code",
   "execution_count": null,
   "id": "2782bbdf",
   "metadata": {},
   "outputs": [],
   "source": [
    "cursor = conn.cursor()"
   ]
  },
  {
   "cell_type": "code",
   "execution_count": null,
   "id": "6cb2776a",
   "metadata": {},
   "outputs": [],
   "source": [
    "# Create schema\n",
    "\n",
    "cursor.execute('CREATE SCHEMA Library;')\n",
    "\n",
    "conn.commit()   # Save changes to database"
   ]
  },
  {
   "cell_type": "code",
   "execution_count": null,
   "metadata": {},
   "outputs": [],
   "source": [
    "# Create tables\n",
    "cursor.execute('''\n",
    "                  CREATE TABLE Library.Authors (\n",
    "                      AuthorID INT PRIMARY KEY IDENTITY,\n",
    "                      FirstName NVARCHAR(100) NOT NULL,\n",
    "                      LastName NVARCHAR(100) NOT NULL\n",
    "              );''')\n",
    "\n",
    "cursor.execute('''\n",
    "                  CREATE TABLE Library.Books (\n",
    "                        BookID INT PRIMARY KEY IDENTITY,\n",
    "                        Title NVARCHAR(255) NOT NULL,\n",
    "                        Genre NVARCHAR(50),\n",
    "                        AuthorID INT FOREIGN KEY REFERENCES Library.Authors(AuthorID)\n",
    "                      );''')\n",
    "\n",
    "conn.commit()   # Save changes to database"
   ]
  },
  {
   "cell_type": "markdown",
   "id": "1e40d05a",
   "metadata": {},
   "source": [
    "🔁 conn.commit() — What It Does:\n",
    "\n",
    "conn.commit() saves all changes made during the current database transaction.\n",
    "\n",
    "Whenever you:\n",
    "\n",
    "    INSERT\n",
    "\n",
    "    UPDATE\n",
    "\n",
    "    DELETE\n",
    "\n",
    "    or make any other change to the data or schema\n",
    "\n",
    "...those changes are not permanent until you call commit()."
   ]
  },
  {
   "cell_type": "markdown",
   "id": "d9a97f71",
   "metadata": {},
   "source": [
    "🔁 When You Don’t Need It:\n",
    "\n",
    "    For read-only queries (SELECT), you don’t need commit()."
   ]
  },
  {
   "cell_type": "markdown",
   "metadata": {},
   "source": [
    "### Step 3: Insert Sample Data"
   ]
  },
  {
   "cell_type": "code",
   "execution_count": null,
   "id": "2585ac77",
   "metadata": {},
   "outputs": [],
   "source": [
    "cursor.execute(\"INSERT INTO Library.Authors (FirstName, LastName) VALUES (?, ?);\", ('Jane', 'Austen'))        # method 1, for single inserts\n",
    "\n",
    "conn.commit()"
   ]
  },
  {
   "cell_type": "code",
   "execution_count": null,
   "id": "abf5790c",
   "metadata": {},
   "outputs": [],
   "source": [
    "data_for_authors = [('Harper', 'Lee'), ('J.R.R.', 'Tolkien')]\n",
    "data_for_books = [('Pride and Prejudice', 'Classic', 1), ('To Kill a Mockingbird', 'Fiction', 2), ('The Hobbit', 'Fantasy', 3)]"
   ]
  },
  {
   "cell_type": "code",
   "execution_count": null,
   "metadata": {},
   "outputs": [],
   "source": [
    "cursor.executemany(\"INSERT INTO Library.Authors (FirstName, LastName) VALUES (?, ?);\", data_for_authors)      # method 2, for bulk inserts\n",
    "\n",
    "\n",
    "cursor.executemany(\"INSERT INTO Library.Books (Title, Genre, AuthorID) VALUES (?, ?, ?);\", data_for_books)\n",
    "\n",
    "conn.commit()"
   ]
  },
  {
   "cell_type": "markdown",
   "metadata": {},
   "source": [
    "### Step 4: Query Data using pyodbc"
   ]
  },
  {
   "cell_type": "code",
   "execution_count": null,
   "metadata": {},
   "outputs": [],
   "source": [
    "cursor.execute(\"SELECT Title, Genre FROM Library.Books;\")\n",
    "\n",
    "for row in cursor.fetchall():\n",
    "    print(row)"
   ]
  },
  {
   "cell_type": "markdown",
   "metadata": {},
   "source": [
    "### Step 5: Load Data into Pandas DataFrame"
   ]
  },
  {
   "cell_type": "code",
   "execution_count": null,
   "metadata": {},
   "outputs": [],
   "source": [
    "import pandas as pd\n",
    "\n",
    "df = pd.read_sql(\"\"\"SELECT \n",
    "                        b.Title, \n",
    "                        a.FirstName, \n",
    "                        a.LastName \n",
    "                    FROM \n",
    "                        library.Books b \n",
    "                        JOIN library.Authors a ON b.AuthorID = a.AuthorID;\"\"\"\n",
    "                 , conn);\n",
    "\n",
    "df"
   ]
  },
  {
   "cell_type": "markdown",
   "id": "6e5f9e74",
   "metadata": {},
   "source": [
    "### pyodbc documentation\n",
    "\n",
    "There are many more actions you can take via pyodbc. For more information, check out the [pyodbc documentation](https://github.com/mkleehammer/pyodbc/wiki)."
   ]
  },
  {
   "cell_type": "markdown",
   "id": "a5baca17",
   "metadata": {},
   "source": []
  }
 ],
 "metadata": {
  "kernelspec": {
   "display_name": "databehandling",
   "language": "python",
   "name": "python3"
  },
  "language_info": {
   "codemirror_mode": {
    "name": "ipython",
    "version": 3
   },
   "file_extension": ".py",
   "mimetype": "text/x-python",
   "name": "python",
   "nbconvert_exporter": "python",
   "pygments_lexer": "ipython3",
   "version": "3.12.7"
  }
 },
 "nbformat": 4,
 "nbformat_minor": 5
}
